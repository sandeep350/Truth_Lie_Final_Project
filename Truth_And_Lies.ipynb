{
 "cells": [
  {
   "cell_type": "code",
   "execution_count": 162,
   "metadata": {},
   "outputs": [],
   "source": [
    "import pandas as pd\n",
    "import numpy as np\n",
    "import itertools\n",
    "\n",
    "from sklearn import preprocessing\n",
    "from sklearn.ensemble import RandomForestClassifier\n",
    "from sklearn.neural_network import MLPClassifier\n",
    "\n",
    "from helpers import collect_results"
   ]
  },
  {
   "cell_type": "code",
   "execution_count": 163,
   "metadata": {},
   "outputs": [],
   "source": [
    "pd.options.display.max_rows = None"
   ]
  },
  {
   "cell_type": "code",
   "execution_count": 164,
   "metadata": {},
   "outputs": [],
   "source": [
    "# change to True to run the experiments with the sex labels.\n",
    "run_experiment_with_sex_labels = False"
   ]
  },
  {
   "cell_type": "code",
   "execution_count": null,
   "metadata": {
    "scrolled": false
   },
   "outputs": [],
   "source": [
    "# read data\n",
    "data_directory = 'BagOfLies'\n",
    "df = pd.read_csv(f'{data_directory}/Annotations.csv')\n",
    "display(df)"
   ]
  },
  {
   "cell_type": "code",
   "execution_count": 166,
   "metadata": {},
   "outputs": [],
   "source": [
    "# take lie labels\n",
    "y_lie = df['truth'].eq(0).mul(1).to_numpy()\n",
    "\n",
    "# take sex labels\n",
    "y_sex = df['sex'].eq('F').mul(1).to_numpy()\n",
    "\n",
    "# take subjects\n",
    "subjects = df['usernum'].to_numpy()"
   ]
  },
  {
   "cell_type": "code",
   "execution_count": 167,
   "metadata": {},
   "outputs": [
    {
     "name": "stdout",
     "output_type": "stream",
     "text": [
      "Lie: 162\n",
      "Truth: 163\n",
      "\n",
      "Females: 94\n",
      "Males: 231\n"
     ]
    }
   ],
   "source": [
    "# number of truths/lies\n",
    "print('Lie:', len(y_lie[y_lie == 1]))\n",
    "print('Truth:', len(y_lie[y_lie == 0]), end='\\n\\n')\n",
    "\n",
    "# number of males/females\n",
    "print('Females:', len(y_sex[y_sex == 1]))\n",
    "print('Males:', len(y_sex[y_sex == 0]))"
   ]
  },
  {
   "cell_type": "code",
   "execution_count": 168,
   "metadata": {},
   "outputs": [],
   "source": [
    "def gaze_vector(gaze_file, N=20):\n",
    "    '''Constructs the features for each data point'''\n",
    "    result = []\n",
    "    df_gaze = pd.read_csv(gaze_file)\n",
    "    \n",
    "    # pupils\n",
    "    df_pupil = df_gaze.query(\"LPV == 1 & RPV == 1\")\n",
    "    pupil_size = pd.concat([df_pupil['LPD'], df_pupil['RPD']])\n",
    "    result += [pupil_size.mean(), pupil_size.std()]\n",
    "    \n",
    "    # fixations\n",
    "    df_fixation = df_gaze.query(\"FPOGV == 1\") \n",
    "    df_fixations_grouped = df_fixation.groupby('FPOGID').agg({\"FPOGD\": max, \"FPOGX\": max, \"FPOGY\": max})\n",
    "    df_fixations_sorted = df_fixations_grouped.sort_values('FPOGD', ascending=False)\n",
    "        \n",
    "    fixation_count = df_fixations_sorted.shape[0]\n",
    "    result += [fixation_count]\n",
    "    result += list(itertools.chain(*df_fixations_sorted.head(min(fixation_count, N)).to_records(index=False)))\n",
    "    \n",
    "    nan_x = 0.5 # if fixation_count == 0 else df_fixations_sorted['FPOGX'].iloc[0] \n",
    "    nan_y = 0.5 # if fixation_count == 0 else df_fixations_sorted['FPOGY'].iloc[0] \n",
    "    result += [0, nan_x, nan_y] * (N - min(fixation_count, N))\n",
    "    \n",
    "    return result"
   ]
  },
  {
   "cell_type": "code",
   "execution_count": 169,
   "metadata": {},
   "outputs": [],
   "source": [
    "features = []\n",
    "for gaze_file in df['gaze']:\n",
    "    features += [gaze_vector(data_directory + '/' + gaze_file[2:])]    "
   ]
  },
  {
   "cell_type": "code",
   "execution_count": 170,
   "metadata": {},
   "outputs": [],
   "source": [
    "x_unnormalized = np.array(features)\n",
    "x = preprocessing.StandardScaler().fit(x_unnormalized).transform(x_unnormalized)\n",
    "x = np.append(x, np.ones((x.shape[0], 1)), axis=1)"
   ]
  },
  {
   "cell_type": "code",
   "execution_count": null,
   "metadata": {
    "scrolled": false
   },
   "outputs": [],
   "source": [
    "# Random Forest\n",
    "rf_hyperparameter_map = {}\n",
    "for max_depth in [3, 8, 13, 21, 30, 45, 60]:\n",
    "    for max_features in ['sqrt', 'log2']:\n",
    "        clf = RandomForestClassifier(n_estimators=1000, max_depth=max_depth, max_features=max_features)\n",
    "        collect_results(x, y_lie, y_sex, subjects, run_experiment_with_sex_labels, (max_depth, max_features), \n",
    "                        clf, rf_hyperparameter_map, folds=3, iterations=5)"
   ]
  },
  {
   "cell_type": "code",
   "execution_count": null,
   "metadata": {},
   "outputs": [],
   "source": [
    "# MLP\n",
    "mlp_hyperparameter_map = {}\n",
    "for hidden_layer_size in [30, 50, 80, 100, 120]:\n",
    "    for alpha in [1e-4, 1e-3, 5e-3, 1e-2, 5e-2, 1e-1, 5e-1, 1]:\n",
    "        clf = MLPClassifier(hidden_layer_sizes=hidden_layer_size, alpha=alpha, max_iter=10000)\n",
    "        collect_results(x, y_lie, y_sex, subjects, run_experiment_with_sex_labels, (hidden_layer_size, alpha), \n",
    "                        clf, mlp_hyperparameter_map, folds=3, iterations=5) "
   ]
  }
 ],
 "metadata": {
  "kernelspec": {
   "display_name": "Python 3",
   "language": "python",
   "name": "python3"
  },
  "language_info": {
   "codemirror_mode": {
    "name": "ipython",
    "version": 3
   },
   "file_extension": ".py",
   "mimetype": "text/x-python",
   "name": "python",
   "nbconvert_exporter": "python",
   "pygments_lexer": "ipython3",
   "version": "3.7.6"
  }
 },
 "nbformat": 4,
 "nbformat_minor": 4
}
